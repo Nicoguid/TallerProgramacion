{
 "cells": [
  {
   "cell_type": "code",
   "execution_count": null,
   "id": "c4405e21",
   "metadata": {},
   "outputs": [],
   "source": [
    "def actualizar_usuario(actualizacion_usuario):\n",
    "    usuario = obtener_usuario(actualizacion_usuario[\"id\"])\n",
    "    for campo in actualizacion_usuario[\"actualizacion\"]:\n",
    "        if campo not in actualizacion_usuario:\n",
    "            return \"falta campo: \" + campo\n",
    "        usuario[campo] = actualizacion_usuario.get(campo)\n",
    "    return usuario"
   ]
  }
 ],
 "metadata": {
  "kernelspec": {
   "display_name": "Python 3 (ipykernel)",
   "language": "python",
   "name": "python3"
  },
  "language_info": {
   "codemirror_mode": {
    "name": "ipython",
    "version": 3
   },
   "file_extension": ".py",
   "mimetype": "text/x-python",
   "name": "python",
   "nbconvert_exporter": "python",
   "pygments_lexer": "ipython3",
   "version": "3.8.5"
  }
 },
 "nbformat": 4,
 "nbformat_minor": 5
}
